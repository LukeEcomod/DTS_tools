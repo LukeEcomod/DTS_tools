{
 "cells": [
  {
   "cell_type": "markdown",
   "id": "c1ba990f-a3da-468d-a623-0f893f1d8cb9",
   "metadata": {},
   "source": [
    "# Conversion of raw files .ddf files to csv and nc"
   ]
  },
  {
   "cell_type": "code",
   "execution_count": 2,
   "id": "467debe5-28bc-428a-b9ac-8607d503edbd",
   "metadata": {},
   "outputs": [],
   "source": [
    "import xarray as xr\n",
    "import matplotlib.pyplot as plt\n",
    "from utils import read_and_combine_dts_files\n",
    "from utils import convert_ddf_to_monthly_csv"
   ]
  },
  {
   "cell_type": "markdown",
   "id": "34909ccb-b4b9-46f7-8293-694222c802e6",
   "metadata": {},
   "source": [
    "#### Converting the raw ddf files to monthly csv files"
   ]
  },
  {
   "cell_type": "code",
   "execution_count": 5,
   "id": "97c9a75a-2e62-4d9c-8697-15c0da1c91e0",
   "metadata": {},
   "outputs": [
    {
     "name": "stdout",
     "output_type": "stream",
     "text": [
      "Saved: /Users/jpnousu/DTS_data/RAW_DATA_CSV_DUMMY/channel 1 dts jan 2023.csv\n"
     ]
    }
   ],
   "source": [
    "in_ddf_directory = r'/Users/jpnousu/DTS_data/RAW_DATA_DDF/'\n",
    "out_csv_directory = r'/Users/jpnousu/DTS_data/RAW_DATA_CSV/'\n",
    "output_nc_file = '/Users/jpnousu/DTS_data/PROCESSED_DATA/pallas_dts_data.nc'\n",
    "dates_from_filenames = True\n",
    "\n",
    "convert_ddf_to_monthly_csv(in_ddf_directory, out_csv_directory, dates_from_filenames=dates_from_filenames)"
   ]
  },
  {
   "cell_type": "markdown",
   "id": "3cb01f77-4520-4c4d-852f-42aa08ef4667",
   "metadata": {},
   "source": [
    "#### Reading and combining the csv files into a single pd DataFrame"
   ]
  },
  {
   "cell_type": "code",
   "execution_count": 6,
   "id": "283cc856-4596-4fb4-a6f8-d00890600fd3",
   "metadata": {},
   "outputs": [
    {
     "data": {
      "text/html": [
       "<div>\n",
       "<style scoped>\n",
       "    .dataframe tbody tr th:only-of-type {\n",
       "        vertical-align: middle;\n",
       "    }\n",
       "\n",
       "    .dataframe tbody tr th {\n",
       "        vertical-align: top;\n",
       "    }\n",
       "\n",
       "    .dataframe thead th {\n",
       "        text-align: right;\n",
       "    }\n",
       "</style>\n",
       "<table border=\"1\" class=\"dataframe\">\n",
       "  <thead>\n",
       "    <tr style=\"text-align: right;\">\n",
       "      <th>length (m)</th>\n",
       "      <th>60.603</th>\n",
       "      <th>62.633</th>\n",
       "      <th>64.662</th>\n",
       "      <th>66.691</th>\n",
       "      <th>68.720</th>\n",
       "      <th>70.749</th>\n",
       "      <th>72.778</th>\n",
       "      <th>74.808</th>\n",
       "      <th>76.837</th>\n",
       "      <th>78.866</th>\n",
       "      <th>...</th>\n",
       "      <th>1921.370</th>\n",
       "      <th>1923.399</th>\n",
       "      <th>1925.429</th>\n",
       "      <th>1927.458</th>\n",
       "      <th>1929.487</th>\n",
       "      <th>1931.516</th>\n",
       "      <th>1933.545</th>\n",
       "      <th>1935.574</th>\n",
       "      <th>1937.604</th>\n",
       "      <th>1939.633</th>\n",
       "    </tr>\n",
       "  </thead>\n",
       "  <tbody>\n",
       "    <tr>\n",
       "      <th>2023-01-17 13:30:35</th>\n",
       "      <td>1.288</td>\n",
       "      <td>1.216</td>\n",
       "      <td>1.456</td>\n",
       "      <td>1.231</td>\n",
       "      <td>1.180</td>\n",
       "      <td>1.427</td>\n",
       "      <td>1.289</td>\n",
       "      <td>1.264</td>\n",
       "      <td>1.422</td>\n",
       "      <td>1.119</td>\n",
       "      <td>...</td>\n",
       "      <td>4.220</td>\n",
       "      <td>4.333</td>\n",
       "      <td>4.245</td>\n",
       "      <td>4.209</td>\n",
       "      <td>4.317</td>\n",
       "      <td>4.243</td>\n",
       "      <td>4.214</td>\n",
       "      <td>4.236</td>\n",
       "      <td>4.224</td>\n",
       "      <td>4.315</td>\n",
       "    </tr>\n",
       "    <tr>\n",
       "      <th>2023-01-17 14:00:34</th>\n",
       "      <td>1.358</td>\n",
       "      <td>1.279</td>\n",
       "      <td>1.295</td>\n",
       "      <td>1.062</td>\n",
       "      <td>1.295</td>\n",
       "      <td>1.459</td>\n",
       "      <td>1.166</td>\n",
       "      <td>1.477</td>\n",
       "      <td>1.342</td>\n",
       "      <td>1.448</td>\n",
       "      <td>...</td>\n",
       "      <td>4.386</td>\n",
       "      <td>4.332</td>\n",
       "      <td>4.257</td>\n",
       "      <td>4.314</td>\n",
       "      <td>4.433</td>\n",
       "      <td>4.369</td>\n",
       "      <td>4.496</td>\n",
       "      <td>4.367</td>\n",
       "      <td>4.482</td>\n",
       "      <td>4.343</td>\n",
       "    </tr>\n",
       "  </tbody>\n",
       "</table>\n",
       "<p>2 rows × 927 columns</p>\n",
       "</div>"
      ],
      "text/plain": [
       "length (m)           60.603    62.633    64.662    66.691    68.720    \\\n",
       "2023-01-17 13:30:35     1.288     1.216     1.456     1.231     1.180   \n",
       "2023-01-17 14:00:34     1.358     1.279     1.295     1.062     1.295   \n",
       "\n",
       "length (m)           70.749    72.778    74.808    76.837    78.866    ...  \\\n",
       "2023-01-17 13:30:35     1.427     1.289     1.264     1.422     1.119  ...   \n",
       "2023-01-17 14:00:34     1.459     1.166     1.477     1.342     1.448  ...   \n",
       "\n",
       "length (m)           1921.370  1923.399  1925.429  1927.458  1929.487  \\\n",
       "2023-01-17 13:30:35     4.220     4.333     4.245     4.209     4.317   \n",
       "2023-01-17 14:00:34     4.386     4.332     4.257     4.314     4.433   \n",
       "\n",
       "length (m)           1931.516  1933.545  1935.574  1937.604  1939.633  \n",
       "2023-01-17 13:30:35     4.243     4.214     4.236     4.224     4.315  \n",
       "2023-01-17 14:00:34     4.369     4.496     4.367     4.482     4.343  \n",
       "\n",
       "[2 rows x 927 columns]"
      ]
     },
     "execution_count": 6,
     "metadata": {},
     "output_type": "execute_result"
    }
   ],
   "source": [
    "df_pivot = read_and_combine_dts_files(directory=out_csv_directory, dates_from_filenames=dates_from_filenames)\n",
    "df_pivot.head()"
   ]
  },
  {
   "cell_type": "markdown",
   "id": "63f5aa2e-d673-4854-9b9d-0faa86ff74f9",
   "metadata": {},
   "source": [
    "#### Creating xarray dataset and netCDF file (.nc) from the pd DataFrame"
   ]
  },
  {
   "cell_type": "code",
   "execution_count": 7,
   "id": "b7638962-08ee-4067-aa52-569f9e43a676",
   "metadata": {},
   "outputs": [],
   "source": [
    "# Convert the pivoted DataFrame to xarray Dataset\n",
    "xr_dataset = xr.Dataset(\n",
    "    data_vars={\n",
    "        'T': (['time', 'x'], df_pivot.values)\n",
    "    },\n",
    "    coords={\n",
    "        'time': df_pivot.index.values,\n",
    "        'x': df_pivot.columns.values\n",
    "    }\n",
    ")\n",
    "# Adding descriptions and units\n",
    "xr_dataset['T'].attrs['units'] = '°C'\n",
    "xr_dataset['T'].attrs['description'] = 'Temperature in degrees Celsius'\n",
    "xr_dataset['x'].attrs['units'] = 'm'\n",
    "xr_dataset['x'].attrs['description'] = 'Length in meters'\n",
    "\n",
    "# Save the xarray Dataset as a NetCDF file\n",
    "xr_dataset.to_netcdf(output_nc_file)"
   ]
  },
  {
   "cell_type": "code",
   "execution_count": null,
   "id": "96f9ffd1-1efd-45a0-86c9-b3cde7823d98",
   "metadata": {},
   "outputs": [],
   "source": []
  }
 ],
 "metadata": {
  "kernelspec": {
   "display_name": "Python 3 (ipykernel)",
   "language": "python",
   "name": "python3"
  },
  "language_info": {
   "codemirror_mode": {
    "name": "ipython",
    "version": 3
   },
   "file_extension": ".py",
   "mimetype": "text/x-python",
   "name": "python",
   "nbconvert_exporter": "python",
   "pygments_lexer": "ipython3",
   "version": "3.11.5"
  }
 },
 "nbformat": 4,
 "nbformat_minor": 5
}
