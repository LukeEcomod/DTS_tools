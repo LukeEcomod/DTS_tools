{
 "cells": [
  {
   "cell_type": "code",
   "execution_count": 1,
   "id": "32d11fe0-4ac0-4ced-9de2-0c5e74800709",
   "metadata": {},
   "outputs": [],
   "source": [
    "import pandas as pd\n",
    "import xarray as xr\n",
    "import matplotlib.pyplot as plt\n",
    "import glob\n",
    "import os\n",
    "from utils import parse_time_frame\n",
    "from utils import read_and_combine_dts_files"
   ]
  },
  {
   "cell_type": "code",
   "execution_count": 2,
   "id": "095d9353-5989-4f42-a3af-7ec432353103",
   "metadata": {},
   "outputs": [],
   "source": [
    "# Directory containing the CSV files\n",
    "directory = r'/Users/jpnousu/DTS_data/RAW_DATA'\n",
    "df_pivot = read_and_combine_dts_files(directory)\n",
    "df_pivot.head()"
   ]
  },
  {
   "cell_type": "code",
   "execution_count": 5,
   "id": "a87249eb-e80d-4731-800e-57abfa27cc29",
   "metadata": {},
   "outputs": [],
   "source": [
    "# Convert the pivoted DataFrame to xarray Dataset\n",
    "xr_dataset = xr.Dataset(\n",
    "    data_vars={\n",
    "        'T': (['time', 'x'], df_pivot.values)\n",
    "    },\n",
    "    coords={\n",
    "        'time': df_pivot.index.values,\n",
    "        'x': df_pivot.columns.values\n",
    "    }\n",
    ")\n",
    "# Adding descriptions and units\n",
    "xr_dataset['T'].attrs['units'] = '°C'\n",
    "xr_dataset['T'].attrs['description'] = 'Temperature in degrees Celsius'\n",
    "xr_dataset['x'].attrs['units'] = 'm'\n",
    "xr_dataset['x'].attrs['description'] = 'Length in meters'\n",
    "\n",
    "# Save the xarray Dataset as a NetCDF file\n",
    "output_file = 'PROCESSED_DATA/pallas_dts_data.nc'\n",
    "xr_dataset.to_netcdf(output_file)"
   ]
  }
 ],
 "metadata": {
  "kernelspec": {
   "display_name": "Python 3 (ipykernel)",
   "language": "python",
   "name": "python3"
  },
  "language_info": {
   "codemirror_mode": {
    "name": "ipython",
    "version": 3
   },
   "file_extension": ".py",
   "mimetype": "text/x-python",
   "name": "python",
   "nbconvert_exporter": "python",
   "pygments_lexer": "ipython3",
   "version": "3.11.5"
  }
 },
 "nbformat": 4,
 "nbformat_minor": 5
}
