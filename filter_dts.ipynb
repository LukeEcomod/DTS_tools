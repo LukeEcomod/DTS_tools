{
 "cells": [
  {
   "cell_type": "markdown",
   "id": "d4840447-4334-4bcc-ac44-adc1d424fa03",
   "metadata": {},
   "source": [
    "# Notebook to demonstrate the filtering process for the Pallas stream DTS data"
   ]
  },
  {
   "cell_type": "code",
   "execution_count": null,
   "id": "ed64cffc-3eb9-449d-b2d9-0cbd12040971",
   "metadata": {},
   "outputs": [],
   "source": [
    "import xarray as xr\n",
    "import matplotlib.pyplot as plt\n",
    "import matplotlib.dates as mdates\n",
    "import pandas as pd\n",
    "import numpy as np\n",
    "from utils import read_fmi_meteo_obs, plot_2D_dts_colormap, histogram_match, plot_dts_meteo_distributions"
   ]
  },
  {
   "cell_type": "markdown",
   "id": "e9c60397-6e36-4562-b9af-3955a5cb529c",
   "metadata": {},
   "source": [
    "## Reading the DTS data (xr dataset) and air temperature observations (pd dataframe)"
   ]
  },
  {
   "cell_type": "code",
   "execution_count": null,
   "id": "0b25aa78-fd57-4f17-a041-082ed2598c65",
   "metadata": {},
   "outputs": [],
   "source": [
    "file = '/Users/jpnousu/DTS_data/PROCESSED_DATA/pallas_dts_data.nc'\n",
    "data = xr.open_dataset(file)"
   ]
  },
  {
   "cell_type": "code",
   "execution_count": null,
   "id": "1d342d09-43b9-46fb-93e8-7927f939d674",
   "metadata": {},
   "outputs": [],
   "source": [
    "meteo_file1 = r'/Users/jpnousu/DTS_data/AUX_DATA/Kittilä Kenttärova_ 1.7.2021 - 31.12.2023_a4ec5682-4462-40b6-990b-ff6ca553966e.csv'\n",
    "meteo_file2 = r'/Users/jpnousu/DTS_data/AUX_DATA/Kittilä Lompolonvuoma_ 1.7.2021 - 31.12.2023_583c0ede-e628-46ef-a33b-b351ff859622.csv'\n",
    "\n",
    "meteo1 = read_fmi_meteo_obs(filename=meteo_file1, resample='30MIN')\n",
    "meteo2 = read_fmi_meteo_obs(filename=meteo_file2, resample='30MIN')\n",
    "\n",
    "meteo1 = meteo1.rename(columns={'Tair': 'Kenttarova'})\n",
    "meteo2 = meteo2.rename(columns={'Tair': 'Lompolo'})\n",
    "meteo1['Lompolo'] = meteo2['Lompolo']\n",
    "\n",
    "meteo1.plot(alpha=0.8)"
   ]
  },
  {
   "cell_type": "markdown",
   "id": "7e9b68a9-6de1-4859-a63b-5d62e8f8b0b6",
   "metadata": {},
   "source": [
    "## #1 Checking for clear erroneous timesteps in DTS data"
   ]
  },
  {
   "cell_type": "code",
   "execution_count": null,
   "id": "4c9444b2-6ace-446c-bafc-6f5be6a22630",
   "metadata": {},
   "outputs": [],
   "source": [
    "plt.figure(1)\n",
    "data['T'].mean(dim='x').plot()\n",
    "plt.figure(2)\n",
    "data['T'].sel(time=slice('2023-11-01', None)).mean(dim='x').plot()"
   ]
  },
  {
   "cell_type": "markdown",
   "id": "efa1309e-e31a-447e-ab28-56dab5ba64fc",
   "metadata": {},
   "source": [
    "### Removing the dates after 2023-11-15"
   ]
  },
  {
   "cell_type": "code",
   "execution_count": null,
   "id": "16f36380-592b-49b5-bbbe-fc83c2778fc0",
   "metadata": {},
   "outputs": [],
   "source": [
    "data = data.sel(time=slice(None, \"2023-11-15\"))"
   ]
  },
  {
   "cell_type": "markdown",
   "id": "59614b87-7714-48cd-bb7d-8f2c437ec863",
   "metadata": {},
   "source": [
    "## #2 Searching where the cable is out of water\n",
    "### Are there extreme negative sections during winter? Yes."
   ]
  },
  {
   "cell_type": "code",
   "execution_count": null,
   "id": "0c7255ed-ddc3-4bae-ade3-f05e86b83326",
   "metadata": {},
   "outputs": [],
   "source": [
    "time_slice = slice('2021-12-01', '2022-03-01')\n",
    "x_slice = slice(50, 2000)\n",
    "plot_2D_dts_colormap(xr_data=data, meteo_df=meteo1, vmin=-10, time_slice=time_slice, x_slice=x_slice)"
   ]
  },
  {
   "cell_type": "code",
   "execution_count": null,
   "id": "7f5963cf-4811-49b1-b243-e33373a5b1c2",
   "metadata": {},
   "outputs": [],
   "source": [
    "time_slice = slice('2022-02-01', '2022-02-02')\n",
    "x_slice = slice(50, 2000)\n",
    "\n",
    "plot_dts_meteo_distributions(xr_data=data, meteo_df=meteo1, time_slice=time_slice, x_slice=x_slice, save_fp=None)"
   ]
  },
  {
   "cell_type": "markdown",
   "id": "866d7a69-ea7d-4886-b875-54b3b1d8637a",
   "metadata": {},
   "source": [
    "### Are there sections where the summertime diurnal variation is close to observed air temperature? Yes."
   ]
  },
  {
   "cell_type": "code",
   "execution_count": null,
   "id": "0b2463f9-2e95-484f-8b8e-20b59a0374bd",
   "metadata": {},
   "outputs": [],
   "source": [
    "time_slice = slice('2022-07-01', '2022-08-01')\n",
    "x_slice = slice(50, 2000)\n",
    "plot_2D_dts_colormap(xr_data=data, meteo_df=meteo1, time_slice=time_slice, x_slice=x_slice)"
   ]
  },
  {
   "cell_type": "code",
   "execution_count": null,
   "id": "ca707342-3f4f-4d49-8a2b-002b7e0b38ad",
   "metadata": {},
   "outputs": [],
   "source": [
    "time_slice = slice('2022-08-01', '2022-08-02')\n",
    "x_slice = slice(50, 2000)\n",
    "\n",
    "plot_dts_meteo_distributions(xr_data=data, meteo_df=meteo1, time_slice=time_slice, x_slice=x_slice, save_fp=None)"
   ]
  },
  {
   "cell_type": "markdown",
   "id": "148f1e0f-0a1c-499b-ad81-9f36eed5bd5e",
   "metadata": {},
   "source": [
    "### Removing the data locations (x) where at least 5% of the data is negative"
   ]
  },
  {
   "cell_type": "code",
   "execution_count": null,
   "id": "0d6cb41c-4890-427b-850f-dc0ecf419ea8",
   "metadata": {},
   "outputs": [],
   "source": [
    "# Copy of the data for filtering\n",
    "f_data = data.copy()\n",
    "\n",
    "# Compute the quantile along the time dimension\n",
    "quantile = data[\"T\"].quantile(0.05, dim=\"time\")\n",
    "\n",
    "# Identify locations where the quantile is below 0\n",
    "mask = quantile < 0\n",
    "\n",
    "# Replace all values at those locations with NaN\n",
    "f_data[\"T\"] = data[\"T\"].where(~mask, np.nan)"
   ]
  },
  {
   "cell_type": "markdown",
   "id": "74efb895-82f6-4c45-b399-12b0f4075ee1",
   "metadata": {},
   "source": [
    "#### Plotting the same figures to see if the filtering worked"
   ]
  },
  {
   "cell_type": "code",
   "execution_count": null,
   "id": "0a6dfb49-15be-446f-89bc-07e80195e3a7",
   "metadata": {},
   "outputs": [],
   "source": [
    "time_slice = slice('2021-12-01', '2022-03-01')\n",
    "x_slice = slice(50, 2000)\n",
    "\n",
    "plot_2D_dts_colormap(xr_data=f_data, meteo_df=meteo1, vmin=-10, time_slice=time_slice, x_slice=x_slice)"
   ]
  },
  {
   "cell_type": "code",
   "execution_count": null,
   "id": "bd117bfc-c0d6-424e-afd2-5a8dc3fcf007",
   "metadata": {},
   "outputs": [],
   "source": [
    "time_slice = slice('2022-02-01', '2022-02-02')\n",
    "x_slice = slice(50, 2000)\n",
    "\n",
    "plot_dts_meteo_distributions(xr_data=f_data, meteo_df=meteo1, time_slice=time_slice, x_slice=x_slice, save_fp=None)"
   ]
  },
  {
   "cell_type": "code",
   "execution_count": null,
   "id": "66ea6fc4-a6ec-472b-b74d-ca2a00e3b081",
   "metadata": {},
   "outputs": [],
   "source": [
    "time_slice = slice('2022-07-01', '2022-08-01')\n",
    "x_slice = slice(50, 2000)\n",
    "plot_2D_dts_colormap(xr_data=f_data, meteo_df=meteo1, time_slice=time_slice, x_slice=x_slice)"
   ]
  },
  {
   "cell_type": "code",
   "execution_count": null,
   "id": "bfb119a7-35cd-4dcb-ab53-0206535b7e2b",
   "metadata": {},
   "outputs": [],
   "source": [
    "time_slice = slice('2022-08-01', '2022-08-02')\n",
    "x_slice = slice(50, 2000)\n",
    "\n",
    "plot_dts_meteo_distributions(xr_data=f_data, meteo_df=meteo1, time_slice=time_slice, x_slice=x_slice, save_fp=None)"
   ]
  },
  {
   "cell_type": "markdown",
   "id": "422c23ce-c8a5-4fa8-b650-2e9c02997ed4",
   "metadata": {},
   "source": [
    "### Filtering worked mostly, but it seems that there are still DTS sections where summer diurnal variations are close to air temperature\n",
    "#### For example here"
   ]
  },
  {
   "cell_type": "code",
   "execution_count": null,
   "id": "6c84761b-bf51-4e3f-8d24-80b6ef20c10a",
   "metadata": {},
   "outputs": [],
   "source": [
    "time_slice = slice('2022-06-08', '2022-06-10')\n",
    "x_slice = slice(200, 1000)\n",
    "plot_2D_dts_colormap(xr_data=f_data, meteo_df=meteo1, time_slice=time_slice, x_slice=x_slice)"
   ]
  },
  {
   "cell_type": "markdown",
   "id": "f7cdef4a-4833-462a-a66c-6b5a1ec8a659",
   "metadata": {},
   "source": [
    "#### Subsetting for summer months and common dates"
   ]
  },
  {
   "cell_type": "code",
   "execution_count": null,
   "id": "8301e093-4bd0-4a7a-bede-2718d3b23d9e",
   "metadata": {},
   "outputs": [],
   "source": [
    "f_filtered = f_data.where((f_data.time.dt.month > 5) & (f_data.time.dt.month < 9), drop=True)\n",
    "\n",
    "# Find common times\n",
    "common_times = meteo1.index.intersection(f_filtered.time.values)\n",
    "\n",
    "# Subset both datasets to only include common times\n",
    "f_filtered = f_filtered.sel(time=common_times)\n",
    "meteo1_filtered = meteo1.loc[common_times]"
   ]
  },
  {
   "cell_type": "markdown",
   "id": "071389b8-88e8-4ba7-be65-73f94138aa7e",
   "metadata": {},
   "source": [
    "### Example distributions in summer\n",
    "#### Close to air temperature distributions"
   ]
  },
  {
   "cell_type": "code",
   "execution_count": null,
   "id": "d7e50d1b-c2ff-46a7-828a-58769cb99017",
   "metadata": {},
   "outputs": [],
   "source": [
    "x_temp = 602.397\n",
    "\n",
    "#plt.hist(meteo1.loc[(meteo1.index.month > 5) & (meteo1.index.month < 9), 'Lompolo'], bins=50, alpha=0.5, label='Lompolo')\n",
    "plt.hist(meteo1.loc[(meteo1.index.month > 5) & (meteo1.index.month < 9), 'Kenttarova'], bins=50, alpha=0.5, label='Kenttarova')\n",
    "plt.hist(f_filtered.sel(x=x_temp)['T'], bins=50, alpha=0.5, label='DTS')\n",
    "hm_temp = histogram_match(np.array(f_filtered.sel(x=x_temp)['T']), np.array(meteo1_filtered['Kenttarova']), lims=[0,30])\n",
    "plt.title(f'X = {x_temp}, histogram match = {hm_temp}')\n",
    "plt.legend()"
   ]
  },
  {
   "cell_type": "markdown",
   "id": "0230bdcc-b720-4eb7-b36f-fe0afc56bf77",
   "metadata": {},
   "source": [
    "#### More realistic compared to air temperature distributions"
   ]
  },
  {
   "cell_type": "code",
   "execution_count": null,
   "id": "f009e114-0552-421c-a900-ddc552be41e7",
   "metadata": {},
   "outputs": [],
   "source": [
    "x_temp = 1612.933\n",
    "\n",
    "#plt.hist(meteo1.loc[(meteo1.index.month > 5) & (meteo1.index.month < 9), 'Lompolo'], bins=50, alpha=0.5, label='Lompolo')\n",
    "plt.hist(meteo1.loc[(meteo1.index.month > 5) & (meteo1.index.month < 9), 'Kenttarova'], bins=50, alpha=0.5, label='Kenttarova')\n",
    "plt.hist(f_filtered.sel(x=x_temp)['T'], bins=50, alpha=0.5, label='DTS')\n",
    "hm_temp = histogram_match(np.array(f_filtered.sel(x=x_temp)['T']), np.array(meteo1_filtered['Kenttarova']), lims=[0,30])\n",
    "plt.title(f'X = {x_temp}, histogram match = {hm_temp}')\n",
    "plt.legend()"
   ]
  },
  {
   "cell_type": "markdown",
   "id": "ee3b7988-06af-4ec1-8bfb-593a015fd6ab",
   "metadata": {},
   "source": [
    "#### Calculating and plotting histogram match for all the x's"
   ]
  },
  {
   "cell_type": "code",
   "execution_count": null,
   "id": "afb4c94a-5dd5-4dc5-9259-4df23562b663",
   "metadata": {},
   "outputs": [],
   "source": [
    "hm = pd.DataFrame(index=f_filtered['x'].values, columns=['hm1', 'hm2'])\n",
    "\n",
    "for x in hm.index:\n",
    "    hm.at[x, 'hm1'] = histogram_match(np.array(f_filtered.sel(x=x)['T']), np.array(meteo1_filtered['Lompolo']), lims=[0,30])\n",
    "    hm.at[x, 'hm2'] = histogram_match(np.array(f_filtered.sel(x=x)['T']), np.array(meteo1_filtered['Kenttarova']), lims=[0,30])"
   ]
  },
  {
   "cell_type": "code",
   "execution_count": null,
   "id": "d78aadb3-28b1-4c2e-8ed2-b18b5eb9b6a4",
   "metadata": {},
   "outputs": [],
   "source": [
    "plt.scatter(hm.index, hm['hm1'], s=3, label='Lompolo')\n",
    "plt.scatter(hm.index, hm['hm2'], s=3, label='Kenttarova')\n",
    "plt.legend()\n",
    "plt.ylabel('Histogram match')\n",
    "plt.xlabel('Distance along stream [m]')"
   ]
  },
  {
   "cell_type": "markdown",
   "id": "a3dc087f-b1c3-4471-a05c-ff853dbca13f",
   "metadata": {},
   "source": [
    "### Filtering those x's that have high histogram match"
   ]
  },
  {
   "cell_type": "code",
   "execution_count": null,
   "id": "d02b3c19-80e5-46ff-ba72-9fb6e32f5ae8",
   "metadata": {},
   "outputs": [],
   "source": [
    "f_data_2 = f_data.copy()\n",
    "hm_lim = 0.7\n",
    "\n",
    "filter_xs = np.array(hm.loc[(hm['hm1'] > hm_lim) | (hm['hm2'] > hm_lim)].index)\n",
    "filter_xs_set = set(filter_xs)\n",
    "f_data_2['T'] = xr.where(np.isin(f_data_2['x'], list(filter_xs_set)), np.nan, f_data_2['T'])"
   ]
  },
  {
   "cell_type": "markdown",
   "id": "f7c0d962-85ca-4df2-88ac-550a6a3ab3e2",
   "metadata": {},
   "source": [
    "### Once again a bit better data but in some locations DTS shows much higher temperatures than meteorological observations"
   ]
  },
  {
   "cell_type": "code",
   "execution_count": null,
   "id": "ca75767c-49e5-4050-8418-770b0efcea64",
   "metadata": {},
   "outputs": [],
   "source": [
    "time_slice = slice('2022-06-08', '2022-06-10')\n",
    "x_slice = slice(0, 2000)\n",
    "plot_2D_dts_colormap(xr_data=f_data_2, meteo_df=meteo1, time_slice=time_slice, x_slice=x_slice)"
   ]
  },
  {
   "cell_type": "markdown",
   "id": "d73e193f-f420-4df2-9ab6-40044a194348",
   "metadata": {},
   "source": [
    "## #3 Finding DTS sections where summer temperatures are unrealistically high\n",
    "#### Subsetting for summer months and common dates"
   ]
  },
  {
   "cell_type": "code",
   "execution_count": null,
   "id": "5c731120-61c9-4a63-b55c-501f8a63a54b",
   "metadata": {},
   "outputs": [],
   "source": [
    "f_filtered_2 = f_data_2.where((f_data_2.time.dt.month > 5) & (f_data_2.time.dt.month < 9), drop=True)\n",
    "\n",
    "# Find common times\n",
    "common_times = meteo1.index.intersection(f_filtered_2.time.values)\n",
    "\n",
    "# Subset both datasets to only include common times\n",
    "f_filtered_2 = f_filtered_2.sel(time=common_times)\n",
    "meteo1_filtered_2 = meteo1.loc[common_times]"
   ]
  },
  {
   "cell_type": "markdown",
   "id": "cfa7bbb9-0189-443b-973d-f6036a810411",
   "metadata": {},
   "source": [
    "#### Example distribution of way too high DTS temperature"
   ]
  },
  {
   "cell_type": "code",
   "execution_count": null,
   "id": "f1656efc-c4cc-46eb-9691-71fd0a4a07b2",
   "metadata": {},
   "outputs": [],
   "source": [
    "x_temp = 551.667\n",
    "\n",
    "#plt.hist(meteo1.loc[(meteo1.index.month > 5) & (meteo1.index.month < 9), 'Lompolo'], bins=50, alpha=0.5, label='Lompolo')\n",
    "plt.hist(meteo1.loc[(meteo1.index.month > 5) & (meteo1.index.month < 9), 'Kenttarova'], bins=50, alpha=0.5, label='Kenttarova')\n",
    "plt.hist(f_filtered_2.sel(x=x_temp)['T'], bins=50, alpha=0.5, label='DTS')\n",
    "hm_temp = histogram_match(np.array(f_filtered_2.sel(x=x_temp)['T']), np.array(meteo1_filtered['Kenttarova']), lims=[0,30])\n",
    "meteo_mean = round(meteo1.loc[(meteo1.index.month > 5) & (meteo1.index.month < 9), 'Kenttarova'].mean(),1)\n",
    "dts_mean = round(np.nanmean(f_filtered_2.sel(x=x_temp)['T']), 1)\n",
    "plt.axvline(meteo_mean, color='tab:blue', linestyle='-', label=f'mean = {meteo_mean}')\n",
    "plt.axvline(dts_mean, color='tab:orange', linestyle='-', label=f'mean = {dts_mean}')\n",
    "plt.title(f'X = {x_temp}, histogram match = {hm_temp}')\n",
    "plt.legend()"
   ]
  },
  {
   "cell_type": "markdown",
   "id": "34415921-1542-420b-941a-a827112cdc8a",
   "metadata": {},
   "source": [
    "#### Calculating and plotting summertime means for all x's and meteorological observations"
   ]
  },
  {
   "cell_type": "code",
   "execution_count": null,
   "id": "e5e3b6a9-634b-4357-b5de-48a711cf0ded",
   "metadata": {},
   "outputs": [],
   "source": [
    "means = pd.DataFrame(index=f_filtered['x'].values, columns=['kenttarova_mean', 'lompolo_mean', 'dts_mean'])\n",
    "\n",
    "for x in means.index:\n",
    "    means.at[x, 'kenttarova_mean'] = np.nanmean(meteo1_filtered_2['Kenttarova'])\n",
    "    means.at[x, 'lompolo_mean'] = np.nanmean(meteo1_filtered_2['Lompolo'])\n",
    "    means.at[x, 'dts_mean'] = np.nanmean(f_filtered_2.sel(x=x)['T'])\n",
    "means.plot()"
   ]
  },
  {
   "cell_type": "markdown",
   "id": "8cf71fd2-b17f-443e-81f7-dda6fa78e358",
   "metadata": {},
   "source": [
    "#### Filtering those x's that have higher mean than that of air"
   ]
  },
  {
   "cell_type": "code",
   "execution_count": null,
   "id": "57966c4e-619b-406a-839b-a4c5c9faa6a2",
   "metadata": {},
   "outputs": [],
   "source": [
    "f_data_3 = f_data_2.copy()\n",
    "\n",
    "filter_xs_2 = np.array(means.loc[((means['dts_mean'] > means['lompolo_mean']) | \n",
    "                                  (means['dts_mean'] > means['kenttarova_mean']))].index)\n",
    "filter_xs_set_2 = set(filter_xs_2)\n",
    "f_data_3['T'] = xr.where(np.isin(f_data_3['x'], list(filter_xs_set_2)), np.nan, f_data_3['T'])"
   ]
  },
  {
   "cell_type": "code",
   "execution_count": null,
   "id": "e8e52018-3c11-438a-83fd-3b738ea7447d",
   "metadata": {},
   "outputs": [],
   "source": [
    "time_slice = slice('2022-06-01', '2022-08-01')\n",
    "x_slice = slice(0, 2000)\n",
    "plot_2D_dts_colormap(xr_data=f_data_3, meteo_df=meteo1, time_slice=time_slice, x_slice=x_slice)"
   ]
  },
  {
   "cell_type": "code",
   "execution_count": null,
   "id": "275af3de-1e55-4978-9328-d00331056026",
   "metadata": {},
   "outputs": [],
   "source": [
    "time_slice = slice('2022-08-01', '2022-08-02')\n",
    "x_slice = slice(50, 2000)\n",
    "\n",
    "plot_dts_meteo_distributions(xr_data=f_data_3, meteo_df=meteo1, time_slice=time_slice, x_slice=x_slice, save_fp=None)"
   ]
  },
  {
   "cell_type": "code",
   "execution_count": null,
   "id": "2b0018ce-e8d1-4e09-8acf-b9fd3888698b",
   "metadata": {},
   "outputs": [],
   "source": [
    "time_slice = slice('2021-12-01', '2022-03-01')\n",
    "x_slice = slice(500, 1000)\n",
    "plot_2D_dts_colormap(xr_data=f_data_3, meteo_df=meteo1, time_slice=time_slice, vmin=-10, vmax=10, x_slice=x_slice)"
   ]
  },
  {
   "cell_type": "code",
   "execution_count": null,
   "id": "2094d37b-6966-491c-b86f-f6ea2efc97da",
   "metadata": {},
   "outputs": [],
   "source": [
    "time_slice = slice('2022-02-01', '2022-02-02')\n",
    "x_slice = slice(50, 2000)\n",
    "\n",
    "plot_dts_meteo_distributions(xr_data=f_data_3, meteo_df=meteo1, time_slice=time_slice, x_slice=x_slice, save_fp=None)"
   ]
  },
  {
   "cell_type": "markdown",
   "id": "2b8e4d38-5ea6-409b-a381-81a8b9dc4034",
   "metadata": {},
   "source": [
    "### Looks pretty OK now although there are still some frozen sections during low flow\n",
    "#### Saving into a new .nc file"
   ]
  },
  {
   "cell_type": "code",
   "execution_count": null,
   "id": "392f9d0d-3c78-4cd1-88e6-361684b483e2",
   "metadata": {},
   "outputs": [],
   "source": [
    "out_fp = r'/Users/jpnousu/DTS_data/PROCESSED_DATA/pallas_dts_data_f_3.nc'\n",
    "f_data_3.to_netcdf(out_fp)"
   ]
  }
 ],
 "metadata": {
  "kernelspec": {
   "display_name": "Python 3 (ipykernel)",
   "language": "python",
   "name": "python3"
  },
  "language_info": {
   "codemirror_mode": {
    "name": "ipython",
    "version": 3
   },
   "file_extension": ".py",
   "mimetype": "text/x-python",
   "name": "python",
   "nbconvert_exporter": "python",
   "pygments_lexer": "ipython3",
   "version": "3.11.5"
  }
 },
 "nbformat": 4,
 "nbformat_minor": 5
}
